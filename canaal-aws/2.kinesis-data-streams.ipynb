{
 "cells": [
  {
   "cell_type": "code",
   "execution_count": 1,
   "id": "eb0050ef",
   "metadata": {},
   "outputs": [],
   "source": [
    "import boto3\n",
    "import os\n",
    "import keys\n",
    "\n",
    "os.environ['AWS_ACCESS_KEY_ID'] = keys.AWS_ACCESS_KEY_ID\n",
    "os.environ['AWS_SECRET_ACCESS_KEY'] = keys.AWS_SECRET_ACCESS_KEY\n",
    "os.environ['AWS_DEFAULT_REGION'] = keys.AWS_DEFAULT_REGION"
   ]
  },
  {
   "cell_type": "code",
   "execution_count": 2,
   "id": "fb5f1aca",
   "metadata": {},
   "outputs": [],
   "source": [
    "import logging\n",
    "from pprint import pprint\n",
    "import sys\n",
    "import threading\n",
    "import time\n",
    "import boto3\n",
    "\n",
    "from kinesis.streams.kinesis_stream import KinesisStream\n",
    "from kinesis.analytics.analytics_application import KinesisAnalyticsApplication\n",
    "\n",
    "sys.path.append('../..')\n",
    "from demo_tools.custom_waiter import CustomWaiter, WaitState\n",
    "from demo_tools.retries import exponential_retry\n",
    "\n",
    "logger = logging.getLogger(__name__)"
   ]
  },
  {
   "cell_type": "code",
   "execution_count": 3,
   "id": "901d6820",
   "metadata": {},
   "outputs": [],
   "source": [
    "class ApplicationRunningWaiter(CustomWaiter):\n",
    "    \"\"\"\n",
    "    Waits for the application to be in a running state.\n",
    "    \"\"\"\n",
    "    def __init__(self, client):\n",
    "        super().__init__(\n",
    "            'ApplicationRunning', 'DescribeApplication',\n",
    "            'ApplicationDetail.ApplicationStatus',\n",
    "            {'RUNNING': WaitState.SUCCESS, 'STOPPING': WaitState.FAILURE},\n",
    "            client)\n",
    "\n",
    "    def wait(self, app_name):\n",
    "        self._wait(ApplicationName=app_name)"
   ]
  },
  {
   "cell_type": "code",
   "execution_count": 4,
   "id": "4ad0f6d2",
   "metadata": {
    "scrolled": false
   },
   "outputs": [
    {
     "name": "stderr",
     "output_type": "stream",
     "text": [
      "INFO: Found credentials in environment variables.\n"
     ]
    },
    {
     "name": "stdout",
     "output_type": "stream",
     "text": [
      "----------------------------------------------------------------------------------------\n",
      "Setting up Data Streams and Continuous Query.\n",
      "----------------------------------------------------------------------------------------\n",
      "Creating input stream canaal-input and output stream canaal-output.\n"
     ]
    },
    {
     "name": "stderr",
     "output_type": "stream",
     "text": [
      "INFO: Created stream canaal-input.\n",
      "INFO: Waiting until exists.\n",
      "INFO: Got stream canaal-input.\n",
      "INFO: Created stream canaal-output.\n",
      "INFO: Waiting until exists.\n",
      "INFO: Got stream canaal-output.\n"
     ]
    },
    {
     "name": "stdout",
     "output_type": "stream",
     "text": [
      "Creating role kinesis-read-write to let Kinesis Analytics read from the input stream and write to the output stream.\n"
     ]
    },
    {
     "name": "stderr",
     "output_type": "stream",
     "text": [
      "INFO: Created role kinesis-read-write-role and attached policy kinesis-read-write-policy to allow read from stream arn:aws:kinesis:us-east-2:333152911718:stream/canaal-input and write to stream arn:aws:kinesis:us-east-2:333152911718:stream/canaal-output.\n"
     ]
    },
    {
     "name": "stdout",
     "output_type": "stream",
     "text": [
      "Waiting for role to be ready.\n"
     ]
    }
   ],
   "source": [
    "print('-'*88)\n",
    "print(\"Setting up Data Streams and Continuous Query.\")\n",
    "print('-'*88)\n",
    "\n",
    "logging.basicConfig(level=logging.INFO, format='%(levelname)s: %(message)s')\n",
    "\n",
    "kinesis_client = boto3.client('kinesis')\n",
    "iam_resource = boto3.resource('iam')\n",
    "analytics_client = boto3.client('kinesisanalytics')\n",
    "application = KinesisAnalyticsApplication(analytics_client)\n",
    "app_running_waiter = ApplicationRunningWaiter(analytics_client)\n",
    "\n",
    "input_stream_name = 'canaal-input'\n",
    "input_prefix = 'SOURCE_SQL_STREAM'\n",
    "output_stream_name = 'canaal-output'\n",
    "app_name = 'canaal-app'\n",
    "role_name = 'kinesis-read-write'\n",
    "\n",
    "print(f\"Creating input stream {input_stream_name} and output stream {output_stream_name}.\")\n",
    "input_stream = KinesisStream(kinesis_client)\n",
    "input_stream.create(input_stream_name)\n",
    "output_stream = KinesisStream(kinesis_client)\n",
    "output_stream.create(output_stream_name)\n",
    "\n",
    "print(f\"Creating role {role_name} to let Kinesis Analytics read from the input stream and write to the output stream.\")\n",
    "role = application.create_read_write_role(role_name, input_stream.arn(), output_stream.arn(), iam_resource)\n",
    "print(\"Waiting for role to be ready.\")\n",
    "time.sleep(10)"
   ]
  },
  {
   "cell_type": "code",
   "execution_count": 5,
   "id": "1e5e8705",
   "metadata": {},
   "outputs": [
    {
     "data": {
      "text/plain": [
       "['canaal-input', 'canaal-output']"
      ]
     },
     "execution_count": 5,
     "metadata": {},
     "output_type": "execute_result"
    }
   ],
   "source": [
    "response = kinesis_client.list_streams()\n",
    "response['StreamNames']"
   ]
  },
  {
   "cell_type": "code",
   "execution_count": 6,
   "id": "cf7c7cce",
   "metadata": {},
   "outputs": [
    {
     "data": {
      "text/plain": [
       "{'StreamName': 'canaal-input',\n",
       " 'StreamARN': 'arn:aws:kinesis:us-east-2:333152911718:stream/canaal-input',\n",
       " 'StreamStatus': 'ACTIVE',\n",
       " 'StreamModeDetails': {'StreamMode': 'PROVISIONED'},\n",
       " 'RetentionPeriodHours': 24,\n",
       " 'StreamCreationTimestamp': datetime.datetime(2022, 11, 14, 17, 18, 17, tzinfo=tzlocal()),\n",
       " 'EnhancedMonitoring': [{'ShardLevelMetrics': []}],\n",
       " 'EncryptionType': 'NONE',\n",
       " 'OpenShardCount': 1,\n",
       " 'ConsumerCount': 0}"
      ]
     },
     "execution_count": 6,
     "metadata": {},
     "output_type": "execute_result"
    }
   ],
   "source": [
    "response = kinesis_client.describe_stream_summary(StreamName='canaal-input')\n",
    "response['StreamDescriptionSummary']"
   ]
  },
  {
   "cell_type": "code",
   "execution_count": 9,
   "id": "5a726828",
   "metadata": {
    "scrolled": false
   },
   "outputs": [
    {
     "name": "stdout",
     "output_type": "stream",
     "text": [
      "{'ApplicationARN': 'arn:aws:kinesisanalytics:us-east-2:333152911718:application/canaal-app',\n",
      " 'ApplicationName': 'canaal-app',\n",
      " 'ApplicationStatus': 'READY'}\n",
      "Discovering schema of input stream canaal-input.\n"
     ]
    },
    {
     "name": "stderr",
     "output_type": "stream",
     "text": [
      "INFO: Discovered input schema for stream arn:aws:kinesis:us-east-2:333152911718:stream/canaal-input.\n"
     ]
    },
    {
     "name": "stdout",
     "output_type": "stream",
     "text": [
      "{'RecordColumns': [{'Mapping': '$.tweet',\n",
      "                    'Name': 'tweet',\n",
      "                    'SqlType': 'VARCHAR(128)'},\n",
      "                   {'Mapping': '$.pos',\n",
      "                    'Name': 'pos',\n",
      "                    'SqlType': 'DECIMAL(4,3)'},\n",
      "                   {'Mapping': '$.neu',\n",
      "                    'Name': 'neu',\n",
      "                    'SqlType': 'DECIMAL(4,3)'},\n",
      "                   {'Mapping': '$.neg',\n",
      "                    'Name': 'neg',\n",
      "                    'SqlType': 'DECIMAL(1,1)'},\n",
      "                   {'Mapping': '$.block',\n",
      "                    'Name': 'block',\n",
      "                    'SqlType': 'INTEGER'}],\n",
      " 'RecordEncoding': 'UTF-8',\n",
      " 'RecordFormat': {'MappingParameters': {'JSONMappingParameters': {'RecordRowPath': '$'}},\n",
      "                  'RecordFormatType': 'JSON'}}\n"
     ]
    }
   ],
   "source": [
    "print(f\"Creating application {app_name}.\")\n",
    "app_data = exponential_retry('InvalidArgumentException')(application.create)(app_name, role.arn)\n",
    "application.create_timestamp = analytics_client.describe_application(ApplicationName=app_name)['ApplicationDetail']['CreateTimestamp']\n",
    "application.version_id = analytics_client.describe_application(ApplicationName=app_name)['ApplicationDetail']['ApplicationVersionId']\n",
    "\n",
    "pprint(app_data)\n",
    "print(f\"Discovering schema of input stream {input_stream.name}.\")\n",
    "input_schema = application.discover_input_schema(input_stream.arn(), role.arn)\n",
    "application.version_id = analytics_client.describe_application(ApplicationName=app_name)['ApplicationDetail']['ApplicationVersionId']\n",
    "pprint(input_schema)"
   ]
  },
  {
   "cell_type": "code",
   "execution_count": 10,
   "id": "4b3b4c64",
   "metadata": {},
   "outputs": [
    {
     "name": "stderr",
     "output_type": "stream",
     "text": [
      "INFO: Add input stream arn:aws:kinesis:us-east-2:333152911718:stream/canaal-input to application canaal-app.\n"
     ]
    },
    {
     "name": "stdout",
     "output_type": "stream",
     "text": [
      "Adding input stream to the application.\n",
      "Input details:\n",
      "{'ResponseMetadata': {'HTTPHeaders': {'content-length': '2',\n",
      "                                      'content-type': 'application/x-amz-json-1.1',\n",
      "                                      'date': 'Mon, 14 Nov 2022 23:19:39 GMT',\n",
      "                                      'x-amzn-requestid': '22581c8a-5332-4672-833b-33269d7b53d3'},\n",
      "                      'HTTPStatusCode': 200,\n",
      "                      'RequestId': '22581c8a-5332-4672-833b-33269d7b53d3',\n",
      "                      'RetryAttempts': 0}}\n",
      "Uploading SQL code to the application to process the input stream.\n"
     ]
    },
    {
     "name": "stderr",
     "output_type": "stream",
     "text": [
      "INFO: Update code for application canaal-app.\n",
      "INFO: Added output arn:aws:kinesis:us-east-2:333152911718:stream/canaal-output to canaal-app.\n"
     ]
    },
    {
     "name": "stdout",
     "output_type": "stream",
     "text": [
      "Adding output stream to the application.\n"
     ]
    }
   ],
   "source": [
    "print(\"Adding input stream to the application.\")\n",
    "input_details = application.add_input(\n",
    "    input_prefix, input_stream.arn(), role.arn, input_schema)\n",
    "application.version_id = analytics_client.describe_application(ApplicationName=app_name)['ApplicationDetail']['ApplicationVersionId']\n",
    "print(\"Input details:\")\n",
    "pprint(input_details)\n",
    "\n",
    "print(\"Uploading SQL code to the application to process the input stream.\")\n",
    "with open('example.sql') as code_file:\n",
    "    code = code_file.read()\n",
    "application.update_code(code)\n",
    "application.version_id = analytics_client.describe_application(ApplicationName=app_name)['ApplicationDetail']['ApplicationVersionId']\n",
    "\n",
    "print(\"Adding output stream to the application.\")\n",
    "application.add_output('DESTINATION_SQL_STREAM', output_stream.arn(), role.arn)"
   ]
  },
  {
   "cell_type": "code",
   "execution_count": 11,
   "id": "6f4ca155",
   "metadata": {
    "scrolled": true
   },
   "outputs": [
    {
     "name": "stderr",
     "output_type": "stream",
     "text": [
      "INFO: Started application canaal-app.\n"
     ]
    },
    {
     "name": "stdout",
     "output_type": "stream",
     "text": [
      "Starting the application.\n",
      "Waiting for the application to start (this may take a minute or two).\n"
     ]
    },
    {
     "name": "stderr",
     "output_type": "stream",
     "text": [
      "INFO: Waiter ApplicationRunning called DescribeApplication, got STARTING.\n",
      "INFO: Waiter ApplicationRunning called DescribeApplication, got STARTING.\n",
      "INFO: Waiter ApplicationRunning called DescribeApplication, got STARTING.\n",
      "INFO: Waiter ApplicationRunning called DescribeApplication, got STARTING.\n",
      "INFO: Waiter ApplicationRunning called DescribeApplication, got RUNNING.\n"
     ]
    }
   ],
   "source": [
    "print(\"Starting the application.\")\n",
    "application.start(analytics_client.describe_application(ApplicationName=app_name)['ApplicationDetail']['InputDescriptions'][0]['InputId'])\n",
    "print(\"Waiting for the application to start (this may take a minute or two).\")\n",
    "app_running_waiter.wait(application.name)"
   ]
  },
  {
   "cell_type": "code",
   "execution_count": 12,
   "id": "0e70882c",
   "metadata": {
    "scrolled": false
   },
   "outputs": [
    {
     "name": "stdout",
     "output_type": "stream",
     "text": [
      "Application started. Getting records from the output stream.\n",
      "{\"block\":29098772,\"AVG_POS\":0.172,\"AVG_NEU\":0.828,\"AVG_NEG\":0,\"TOTAL_TWT\":1}\n",
      "{\"block\":29098777,\"AVG_POS\":0.172,\"AVG_NEU\":0.828,\"AVG_NEG\":0,\"TOTAL_TWT\":1}\n",
      "{\"block\":29098779,\"AVG_POS\":0.172,\"AVG_NEU\":0.828,\"AVG_NEG\":0,\"TOTAL_TWT\":1}\n",
      "{\"block\":29098783,\"AVG_POS\":0,\"AVG_NEU\":1,\"AVG_NEG\":0,\"TOTAL_TWT\":1}\n",
      "{\"block\":29098784,\"AVG_POS\":0,\"AVG_NEU\":1,\"AVG_NEG\":0,\"TOTAL_TWT\":1}\n",
      "{\"block\":29098789,\"AVG_POS\":0.351,\"AVG_NEU\":0.649,\"AVG_NEG\":0,\"TOTAL_TWT\":1}\n",
      "{\"block\":29098790,\"AVG_POS\":0,\"AVG_NEU\":1,\"AVG_NEG\":0,\"TOTAL_TWT\":1}\n",
      "{\"block\":29098793,\"AVG_POS\":0,\"AVG_NEU\":1,\"AVG_NEG\":0,\"TOTAL_TWT\":1}\n",
      "{\"block\":29098795,\"AVG_POS\":0,\"AVG_NEU\":1,\"AVG_NEG\":0,\"TOTAL_TWT\":1}\n",
      "{\"block\":29098801,\"AVG_POS\":0.172,\"AVG_NEU\":0.828,\"AVG_NEG\":0,\"TOTAL_TWT\":1}\n",
      "{\"block\":29098802,\"AVG_POS\":0.243,\"AVG_NEU\":0.757,\"AVG_NEG\":0,\"TOTAL_TWT\":2}\n",
      "{\"block\":29098803,\"AVG_POS\":0,\"AVG_NEU\":0.861,\"AVG_NEG\":0.100,\"TOTAL_TWT\":1}\n",
      "{\"block\":29098804,\"AVG_POS\":0,\"AVG_NEU\":0.769,\"AVG_NEG\":0.200,\"TOTAL_TWT\":1}\n",
      "{\"block\":29098805,\"AVG_POS\":0.172,\"AVG_NEU\":0.828,\"AVG_NEG\":0,\"TOTAL_TWT\":1}\n",
      "{\"block\":29098808,\"AVG_POS\":0.172,\"AVG_NEU\":0.828,\"AVG_NEG\":0,\"TOTAL_TWT\":1}\n",
      "{\"block\":29098810,\"AVG_POS\":0.182,\"AVG_NEU\":0.818,\"AVG_NEG\":0,\"TOTAL_TWT\":1}\n",
      "{\"block\":29098812,\"AVG_POS\":0.167,\"AVG_NEU\":0.833,\"AVG_NEG\":0,\"TOTAL_TWT\":2}\n",
      "{\"block\":29098815,\"AVG_POS\":0.086,\"AVG_NEU\":0.914,\"AVG_NEG\":0,\"TOTAL_TWT\":2}\n",
      "{\"block\":29098819,\"AVG_POS\":0.172,\"AVG_NEU\":0.828,\"AVG_NEG\":0,\"TOTAL_TWT\":1}\n",
      "{\"block\":29098821,\"AVG_POS\":0.473,\"AVG_NEU\":0.527,\"AVG_NEG\":0,\"TOTAL_TWT\":1}\n",
      "{\"block\":29098823,\"AVG_POS\":0.172,\"AVG_NEU\":0.828,\"AVG_NEG\":0,\"TOTAL_TWT\":1}\n",
      "{\"block\":29098828,\"AVG_POS\":0.172,\"AVG_NEU\":0.828,\"AVG_NEG\":0,\"TOTAL_TWT\":1}\n",
      "{\"block\":29098831,\"AVG_POS\":0.148,\"AVG_NEU\":0.852,\"AVG_NEG\":0,\"TOTAL_TWT\":1}\n",
      "{\"block\":29098832,\"AVG_POS\":0.115,\"AVG_NEU\":0.885,\"AVG_NEG\":0,\"TOTAL_TWT\":3}\n",
      "{\"block\":29098833,\"AVG_POS\":0,\"AVG_NEU\":1,\"AVG_NEG\":0,\"TOTAL_TWT\":1}\n",
      "{\"block\":29098840,\"AVG_POS\":0,\"AVG_NEU\":1,\"AVG_NEG\":0,\"TOTAL_TWT\":1}\n",
      "{\"block\":29098844,\"AVG_POS\":0.213,\"AVG_NEU\":0.787,\"AVG_NEG\":0,\"TOTAL_TWT\":1}\n",
      "{\"block\":29098845,\"AVG_POS\":0,\"AVG_NEU\":1,\"AVG_NEG\":0,\"TOTAL_TWT\":1}\n",
      "{\"block\":29098846,\"AVG_POS\":0,\"AVG_NEU\":0.852,\"AVG_NEG\":0.100,\"TOTAL_TWT\":1}\n",
      "{\"block\":29098849,\"AVG_POS\":0,\"AVG_NEU\":1,\"AVG_NEG\":0,\"TOTAL_TWT\":1}\n",
      "{\"block\":29098856,\"AVG_POS\":0,\"AVG_NEU\":1,\"AVG_NEG\":0,\"TOTAL_TWT\":2}\n",
      "{\"block\":29098872,\"AVG_POS\":0.141,\"AVG_NEU\":0.859,\"AVG_NEG\":0,\"TOTAL_TWT\":1}\n",
      "{\"block\":29098874,\"AVG_POS\":0,\"AVG_NEU\":1,\"AVG_NEG\":0,\"TOTAL_TWT\":1}\n",
      "{\"block\":29098875,\"AVG_POS\":0,\"AVG_NEU\":1,\"AVG_NEG\":0,\"TOTAL_TWT\":1}\n",
      "{\"block\":29098879,\"AVG_POS\":0,\"AVG_NEU\":1,\"AVG_NEG\":0,\"TOTAL_TWT\":1}\n",
      "{\"block\":29098882,\"AVG_POS\":0,\"AVG_NEU\":1,\"AVG_NEG\":0,\"TOTAL_TWT\":1}\n",
      "{\"block\":29098885,\"AVG_POS\":0,\"AVG_NEU\":1,\"AVG_NEG\":0,\"TOTAL_TWT\":1}\n",
      "{\"block\":29098888,\"AVG_POS\":0,\"AVG_NEU\":1,\"AVG_NEG\":0,\"TOTAL_TWT\":1}\n",
      "{\"block\":29098901,\"AVG_POS\":0.123,\"AVG_NEU\":0.877,\"AVG_NEG\":0,\"TOTAL_TWT\":1}\n",
      "{\"block\":29098903,\"AVG_POS\":0.388,\"AVG_NEU\":0.612,\"AVG_NEG\":0,\"TOTAL_TWT\":2}\n",
      "{\"block\":29098904,\"AVG_POS\":0.255,\"AVG_NEU\":0.745,\"AVG_NEG\":0,\"TOTAL_TWT\":1}\n",
      "{\"block\":29098905,\"AVG_POS\":0.057,\"AVG_NEU\":0.835,\"AVG_NEG\":0.100,\"TOTAL_TWT\":1}\n",
      "{\"block\":29098906,\"AVG_POS\":0,\"AVG_NEU\":0.893,\"AVG_NEG\":0.100,\"TOTAL_TWT\":1}\n",
      "{\"block\":29098909,\"AVG_POS\":0.123,\"AVG_NEU\":0.877,\"AVG_NEG\":0,\"TOTAL_TWT\":1}\n",
      "{\"block\":29098910,\"AVG_POS\":0,\"AVG_NEU\":0.778,\"AVG_NEG\":0.200,\"TOTAL_TWT\":1}\n",
      "{\"block\":29098915,\"AVG_POS\":0.051,\"AVG_NEU\":0.949,\"AVG_NEG\":0,\"TOTAL_TWT\":1}\n",
      "{\"block\":29098924,\"AVG_POS\":0,\"AVG_NEU\":1,\"AVG_NEG\":0,\"TOTAL_TWT\":1}\n",
      "{\"block\":29098935,\"AVG_POS\":0.128,\"AVG_NEU\":0.872,\"AVG_NEG\":0,\"TOTAL_TWT\":1}\n",
      "{\"block\":29098940,\"AVG_POS\":0.123,\"AVG_NEU\":0.877,\"AVG_NEG\":0,\"TOTAL_TWT\":1}\n",
      "{\"block\":29098941,\"AVG_POS\":0,\"AVG_NEU\":1,\"AVG_NEG\":0,\"TOTAL_TWT\":1}\n"
     ]
    }
   ],
   "source": [
    "print(\"Application started. Getting records from the output stream.\")\n",
    "logging.disable(level=logging.INFO)\n",
    "for records in output_stream.get_records(50):\n",
    "    if records != []:\n",
    "        print(*[rec['Data'].decode() for rec in records], sep='\\n')"
   ]
  },
  {
   "cell_type": "code",
   "execution_count": null,
   "id": "1c810ada",
   "metadata": {},
   "outputs": [],
   "source": []
  },
  {
   "cell_type": "code",
   "execution_count": 13,
   "id": "5b7dfcf1",
   "metadata": {
    "scrolled": true
   },
   "outputs": [
    {
     "name": "stdout",
     "output_type": "stream",
     "text": [
      "Cleaning up...\n",
      "Deleting read/write role.\n",
      "----------------------------------------------------------------------------------------\n"
     ]
    }
   ],
   "source": [
    "print(\"Cleaning up...\")\n",
    "application.delete()\n",
    "input_stream.delete()\n",
    "output_stream.delete()\n",
    "print(\"Deleting read/write role.\")\n",
    "for policy in role.attached_policies.all():\n",
    "    role.detach_policy(PolicyArn=policy.arn)\n",
    "    policy.delete()\n",
    "role.delete()\n",
    "print('-'*88)"
   ]
  },
  {
   "cell_type": "code",
   "execution_count": null,
   "id": "2e2867ab",
   "metadata": {},
   "outputs": [],
   "source": []
  }
 ],
 "metadata": {
  "kernelspec": {
   "display_name": "Python 3 (ipykernel)",
   "language": "python",
   "name": "python3"
  },
  "language_info": {
   "codemirror_mode": {
    "name": "ipython",
    "version": 3
   },
   "file_extension": ".py",
   "mimetype": "text/x-python",
   "name": "python",
   "nbconvert_exporter": "python",
   "pygments_lexer": "ipython3",
   "version": "3.9.7"
  }
 },
 "nbformat": 4,
 "nbformat_minor": 5
}
